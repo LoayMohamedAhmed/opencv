{
 "cells": [
  {
   "cell_type": "code",
   "execution_count": 1,
   "metadata": {},
   "outputs": [],
   "source": [
    "import cv2\n",
    "import numpy as np\n",
    "import datetime as dt"
   ]
  },
  {
   "cell_type": "markdown",
   "metadata": {},
   "source": [
    "# open camera and read video\n",
    "save webcam frames in video"
   ]
  },
  {
   "cell_type": "code",
   "execution_count": 15,
   "metadata": {},
   "outputs": [
    {
     "name": "stdout",
     "output_type": "stream",
     "text": [
      "4.8.1\n"
     ]
    }
   ],
   "source": [
    "print(cv2.__version__)\n",
    "cap = cv2.VideoCapture(0)\n",
    "fourcc = cv2.VideoWriter_fourcc(*'XVID')\n",
    "out = cv2.VideoWriter(r\"first.avi\",fourcc,20.0,(640,480))\n",
    "while True:\n",
    "    ret, frame =cap.read()\n",
    "    if ret:\n",
    "        cv2.imshow(\"WebCam\",frame)\n",
    "        out.write(frame)\n",
    "        if cv2.waitKey(1) & 0xff == ord('q'):\n",
    "            break\n",
    "cap.release()\n",
    "out.release()\n",
    "cv2.destroyAllWindows()"
   ]
  },
  {
   "cell_type": "markdown",
   "metadata": {},
   "source": [
    "# Drawing shapes"
   ]
  },
  {
   "cell_type": "code",
   "execution_count": 4,
   "metadata": {},
   "outputs": [],
   "source": [
    "cap = cv2.VideoCapture(0)\n",
    "fourcc = cv2.VideoWriter_fourcc(*'XVID')\n",
    "out = cv2.VideoWriter(r\"assets\\first.avi\",fourcc,20.0,(640,480))\n",
    "width = cap.get(3) # we can get it by index\n",
    "height = cap.get(cv2.CAP_PROP_FRAME_HEIGHT)\n",
    "font = cv2.FONT_HERSHEY_COMPLEX_SMALL\n",
    "while True:\n",
    "    ret,frame = cap.read()\n",
    "    if ret:\n",
    "        frame = cv2.rectangle(frame,(10,10),(100,100),(0,255,100), 10)\n",
    "        time = str(dt.datetime.now())\n",
    "        frame = cv2.putText(frame, time,(100,350),font,2,(0,255,0),1,cv2.LINE_8)\n",
    "        cv2.imshow('my face',frame)\n",
    "        out.write(frame)\n",
    "        if cv2.waitKey(1)&0xff == ord('q'):\n",
    "            break\n",
    "        elif cv2.waitKey(1)&0xff == ord('s'):\n",
    "            cv2.imwrite(r\"assets\\loay.jpg\",frame)\n",
    "    else:\n",
    "        break\n",
    "cap.release()\n",
    "out.release()\n",
    "cv2.destroyAllWindows()\n"
   ]
  },
  {
   "cell_type": "markdown",
   "metadata": {},
   "source": [
    "# mouse events"
   ]
  },
  {
   "cell_type": "code",
   "execution_count": 8,
   "metadata": {},
   "outputs": [],
   "source": [
    "#this code set circle when you click on a position\n",
    "image = np.zeros((750,750,3),dtype= np.int8)\n",
    "def click_event(event,x,y,flags,param):\n",
    "    global image\n",
    "    if event == cv2.EVENT_LBUTTONDOWN:\n",
    "        image = cv2.circle(image,(x,y),10,(200,210,0),-1)\n",
    "        cv2.imshow('image',image)\n",
    "\n",
    "cv2.imshow(\"image\",image)\n",
    "cv2.setMouseCallback('image',click_event)\n",
    "cv2.waitKey(0)\n",
    "cv2.destroyAllWindows()"
   ]
  },
  {
   "cell_type": "code",
   "execution_count": 18,
   "metadata": {},
   "outputs": [],
   "source": [
    "# this code read the position of image\n",
    "lenna = cv2.imread(\"assets\\Lenna.png\")\n",
    "lenna = cv2.copyMakeBorder(lenna,60,50,0,0,cv2.BORDER_CONSTANT,value=(255,255,255))\n",
    "# i set padding on the top and the bottom so that i can find space for title and position \n",
    "def mouse_event(event , x , y , flag , param):\n",
    "    global lenna\n",
    "    if event == cv2.EVENT_MOUSEMOVE:\n",
    "        lenna_copy = lenna.copy()\n",
    "        text = f\"({y} , {x})\"\n",
    "        lenna_copy = cv2.putText(lenna_copy , \"position\" , (50,50) , cv2.FONT_ITALIC, 2 , (30,30,30) ,3 ,cv2.LINE_8 )\n",
    "        lenna_copy = cv2.putText(lenna_copy , text , (50,430) , cv2.FONT_HERSHEY_COMPLEX_SMALL , 2 , (30,30,30) ,1 ,cv2.LINE_8 )\n",
    "        cv2.imshow(\"lena\",lenna_copy)\n",
    "cv2.imshow(\"lena\" , lenna)\n",
    "cv2.setMouseCallback(\"lena\" , mouse_event)\n",
    "cv2.waitKey(0)\n",
    "cv2.destroyAllWindows()"
   ]
  },
  {
   "cell_type": "markdown",
   "metadata": {},
   "source": [
    "# image properities"
   ]
  },
  {
   "cell_type": "code",
   "execution_count": 2,
   "metadata": {},
   "outputs": [
    {
     "name": "stdout",
     "output_type": "stream",
     "text": [
      "(330, 330, 3)\n",
      "uint8\n",
      "326700\n",
      "(330, 330)\n"
     ]
    }
   ],
   "source": [
    "lena = cv2.imread(\"assets\\Lenna.png\")\n",
    "print(lena.shape)\n",
    "print(lena.dtype)\n",
    "print(lena.size)\n",
    "b , g , r = cv2.split(lena)\n",
    "print(b.shape)\n",
    "lena = cv2.merge((b,g,r))\n",
    "\n",
    "cv2.imshow(\"lenna\",lena)\n",
    "cv2.waitKey(0)\n",
    "cv2.destroyAllWindows()"
   ]
  },
  {
   "cell_type": "markdown",
   "metadata": {},
   "source": [
    "add two images "
   ]
  },
  {
   "cell_type": "code",
   "execution_count": 22,
   "metadata": {},
   "outputs": [],
   "source": [
    "messi = cv2.imread(\"assets\\Messi.png\")\n",
    "CR7 = cv2.imread(\"assets\\CR7.png\")\n",
    "messi= cv2.resize(messi,(1500,800))\n",
    "CR7= cv2.resize(CR7,(1500,800))\n",
    "Art = cv2.addWeighted(messi,0.5,CR7,0.5,0)\n",
    "\n",
    "cv2.imshow(\"art\",Art)\n",
    "cv2.waitKey(0)\n",
    "cv2.destroyAllWindows()"
   ]
  },
  {
   "cell_type": "markdown",
   "metadata": {},
   "source": [
    "bitwise operations"
   ]
  },
  {
   "cell_type": "code",
   "execution_count": 33,
   "metadata": {},
   "outputs": [],
   "source": [
    "img1 =cv2.imread(r\"assets\\1bit1.png\")\n",
    "img2 =cv2.imread(r\"assets\\2bit2.png\")\n",
    "img = np.vstack((img1,img2))\n",
    "current_image = 0\n",
    "and_img = cv2.bitwise_and(img1,img2)\n",
    "or_img = cv2.bitwise_or(img1,img2)\n",
    "xor_img = cv2.bitwise_xor(img1,img2)\n",
    "not_img1= cv2.bitwise_not(img1)\n",
    "not_img2 = cv2.bitwise_not(img2)\n",
    "\n",
    "# stack all images in array\n",
    "images = [and_img, or_img ,xor_img, not_img1, not_img2]\n",
    "texts = [\"AND\",\"OR\",\"XOR\",\"not1\",\"not2\"]\n",
    "images[current_image] = cv2.putText(images[current_image],texts[current_image], (10,30),\n",
    "                                            cv2.FONT_HERSHEY_PLAIN,2,(0,255,0),2)\n",
    "cv2.imshow(\"image\",images[current_image])\n",
    "cv2.imshow(\"image1 and image2\",img)\n",
    "\n",
    "# use D in the keyboard to move between the three images and Q to quit\n",
    "while True:\n",
    "    key = cv2.waitKey(1) & 0xff\n",
    "    if key == ord('d'):\n",
    "        current_image = (current_image+1)%5\n",
    "        images[current_image] = cv2.putText(images[current_image],texts[current_image], (10,30),\n",
    "                                            cv2.FONT_HERSHEY_PLAIN,2,(0,255,0),2)\n",
    "        cv2.imshow(\"image\",images[current_image])\n",
    "    elif key == ord('q'):\n",
    "        break\n",
    "cv2.destroyAllWindows()"
   ]
  },
  {
   "cell_type": "markdown",
   "metadata": {},
   "source": [
    "# Trackbar"
   ]
  },
  {
   "cell_type": "code",
   "execution_count": 2,
   "metadata": {},
   "outputs": [],
   "source": [
    "def nothing(x):\n",
    "    pass\n",
    "\n",
    "cv2.namedWindow(\"choose color\")\n",
    "image = np.zeros((300,300,3),np.uint8)\n",
    "\n",
    "cv2.createTrackbar(\"blue\",\"choose color\",0,255,nothing)\n",
    "cv2.createTrackbar(\"green\",\"choose color\",0,255,nothing)\n",
    "cv2.createTrackbar(\"red\",\"choose color\",0,255,nothing)\n",
    "\n",
    "while True:\n",
    "    key = cv2.waitKey(1)& 0xff\n",
    "    cv2.imshow(\"choose color\",image)\n",
    "    red = cv2.getTrackbarPos(\"red\",\"choose color\")\n",
    "    green = cv2.getTrackbarPos(\"green\",\"choose color\")\n",
    "    blue = cv2.getTrackbarPos(\"blue\",\"choose color\")\n",
    "    image[:] = [blue,green,red]\n",
    "\n",
    "    if key == ord('q'):\n",
    "        break\n",
    "\n",
    "cv2.destroyAllWindows()\n",
    "\n"
   ]
  },
  {
   "cell_type": "markdown",
   "metadata": {},
   "source": [
    "# Object Detetction using HSV colors"
   ]
  },
  {
   "cell_type": "code",
   "execution_count": 11,
   "metadata": {},
   "outputs": [],
   "source": [
    "def nothing(x):\n",
    "    pass\n",
    "\n",
    "#balls = cv2.imread(r\"assets\\balls.png\")\n",
    "cv2.namedWindow(\"balls\")\n",
    "cv2.namedWindow(\"Track\",cv2.WINDOW_NORMAL)\n",
    "cv2.namedWindow(\"result\")\n",
    "cap = cv2.VideoCapture(0)\n",
    "\n",
    "# Create trackbars\n",
    "cv2.createTrackbar(\"Hue_U\",\"Track\",179,179,nothing)\n",
    "cv2.createTrackbar(\"sat_U\", \"Track\",255,255,nothing)\n",
    "cv2.createTrackbar(\"val_U\" ,\"Track\",255,255,nothing)\n",
    "cv2.createTrackbar(\"Hue_L\",\"Track\",0,179,nothing)\n",
    "cv2.createTrackbar(\"sat_L\", \"Track\",0,255,nothing)\n",
    "cv2.createTrackbar(\"val_L\" ,\"Track\",0,255,nothing)\n",
    "\n",
    "while True:\n",
    "    key = cv2.waitKey(1)& 0xff\n",
    "    #frame_hsv = cv2.cvtColor(balls,cv2.COLOR_BGR2HSV)\n",
    "    ret, frame = cap.read()\n",
    "    frame_hsv = cv2.cvtColor(frame,cv2.COLOR_BGR2HSV)\n",
    "    # Get current positions of the trackbars\n",
    "    hue_up = cv2.getTrackbarPos(\"Hue_U\", \"Track\")\n",
    "    hue_D = cv2.getTrackbarPos(\"Hue_L\", \"Track\")\n",
    "    sat_up = cv2.getTrackbarPos(\"sat_U\",\"Track\")\n",
    "    val_up = cv2.getTrackbarPos(\"val_U\", \"Track\")\n",
    "    sat_D = cv2.getTrackbarPos(\"sat_L\",\"Track\")\n",
    "    val_D = cv2.getTrackbarPos(\"val_L\", \"Track\")\n",
    "\n",
    "    # Define upper and lower bounds for the HSV mask\n",
    "    u_b = np.array([hue_up,sat_up,val_up])\n",
    "    d_b = np.array([hue_D,sat_D,val_D])\n",
    "\n",
    "    # Apply the mask to the original image\n",
    "    mask = cv2.inRange(frame_hsv,d_b,u_b)\n",
    "    result = cv2.bitwise_and(frame,frame,mask=mask)\n",
    "\n",
    "    # Display the images\n",
    "    cv2.imshow(\"balls\",frame)\n",
    "    cv2.imshow(\"result\",result)\n",
    "    if key == ord('q'):\n",
    "        break\n",
    "cap.release()\n",
    "cv2.destroyAllWindows()\n"
   ]
  }
 ],
 "metadata": {
  "kernelspec": {
   "display_name": "base",
   "language": "python",
   "name": "python3"
  },
  "language_info": {
   "codemirror_mode": {
    "name": "ipython",
    "version": 3
   },
   "file_extension": ".py",
   "mimetype": "text/x-python",
   "name": "python",
   "nbconvert_exporter": "python",
   "pygments_lexer": "ipython3",
   "version": "3.11.5"
  }
 },
 "nbformat": 4,
 "nbformat_minor": 2
}
