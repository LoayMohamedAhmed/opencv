{
 "cells": [
  {
   "cell_type": "code",
   "execution_count": 1,
   "metadata": {},
   "outputs": [],
   "source": [
    "import cv2\n",
    "import numpy as np\n",
    "import datetime as dt"
   ]
  },
  {
   "cell_type": "markdown",
   "metadata": {},
   "source": [
    "# open camera and read video\n",
    "save webcam frames in video"
   ]
  },
  {
   "cell_type": "code",
   "execution_count": 15,
   "metadata": {},
   "outputs": [
    {
     "name": "stdout",
     "output_type": "stream",
     "text": [
      "4.8.1\n"
     ]
    }
   ],
   "source": [
    "print(cv2.__version__)\n",
    "cap = cv2.VideoCapture(0)\n",
    "fourcc = cv2.VideoWriter_fourcc(*'XVID')\n",
    "out = cv2.VideoWriter(r\"first.avi\",fourcc,20.0,(640,480))\n",
    "while True:\n",
    "    ret, frame =cap.read()\n",
    "    if ret:\n",
    "        cv2.imshow(\"WebCam\",frame)\n",
    "        out.write(frame)\n",
    "        if cv2.waitKey(1) & 0xff == ord('q'):\n",
    "            break\n",
    "cap.release()\n",
    "out.release()\n",
    "cv2.destroyAllWindows()"
   ]
  },
  {
   "cell_type": "markdown",
   "metadata": {},
   "source": [
    "# Drawing shapes"
   ]
  },
  {
   "cell_type": "code",
   "execution_count": 4,
   "metadata": {},
   "outputs": [],
   "source": [
    "cap = cv2.VideoCapture(0)\n",
    "fourcc = cv2.VideoWriter_fourcc(*'XVID')\n",
    "out = cv2.VideoWriter(r\"assets\\first.avi\",fourcc,20.0,(640,480))\n",
    "width = cap.get(3) # we can get it by index\n",
    "height = cap.get(cv2.CAP_PROP_FRAME_HEIGHT)\n",
    "font = cv2.FONT_HERSHEY_COMPLEX_SMALL\n",
    "while True:\n",
    "    ret,frame = cap.read()\n",
    "    if ret:\n",
    "        frame = cv2.rectangle(frame,(10,10),(100,100),(0,255,100), 10)\n",
    "        time = str(dt.datetime.now())\n",
    "        frame = cv2.putText(frame, time,(100,350),font,2,(0,255,0),1,cv2.LINE_8)\n",
    "        cv2.imshow('my face',frame)\n",
    "        out.write(frame)\n",
    "        if cv2.waitKey(1)&0xff == ord('q'):\n",
    "            break\n",
    "        elif cv2.waitKey(1)&0xff == ord('s'):\n",
    "            cv2.imwrite(r\"assets\\loay.jpg\",frame)\n",
    "    else:\n",
    "        break\n",
    "cap.release()\n",
    "out.release()\n",
    "cv2.destroyAllWindows()\n"
   ]
  },
  {
   "cell_type": "markdown",
   "metadata": {},
   "source": [
    "# mouse events"
   ]
  },
  {
   "cell_type": "code",
   "execution_count": 8,
   "metadata": {},
   "outputs": [],
   "source": [
    "image = np.zeros((750,750,3),dtype= np.int8)\n",
    "def click_event(event,x,y,flags,param):\n",
    "    global image\n",
    "    if event == cv2.EVENT_LBUTTONDOWN:\n",
    "        image = cv2.circle(image,(x,y),10,(200,210,0),-1)\n",
    "        cv2.imshow('image',image)\n",
    "\n",
    "cv2.imshow(\"image\",image)\n",
    "cv2.setMouseCallback('image',click_event)\n",
    "cv2.waitKey(0)\n",
    "cv2.destroyAllWindows()"
   ]
  },
  {
   "cell_type": "code",
   "execution_count": 12,
   "metadata": {},
   "outputs": [
    {
     "ename": "IndexError",
     "evalue": "list index out of range",
     "output_type": "error",
     "traceback": [
      "\u001b[1;31m---------------------------------------------------------------------------\u001b[0m",
      "\u001b[1;31mIndexError\u001b[0m                                Traceback (most recent call last)",
      "\u001b[1;32mb:\\summer learning 2024\\opencv\\lesson.ipynb Cell 8\u001b[0m line \u001b[0;36m1\n\u001b[0;32m      <a href='vscode-notebook-cell:/b%3A/summer%20learning%202024/opencv/lesson.ipynb#X10sZmlsZQ%3D%3D?line=7'>8</a>\u001b[0m \u001b[39mif\u001b[39;00m event \u001b[39m==\u001b[39m cv2\u001b[39m.\u001b[39mEVENT_LBUTTONUP:\n\u001b[0;32m      <a href='vscode-notebook-cell:/b%3A/summer%20learning%202024/opencv/lesson.ipynb#X10sZmlsZQ%3D%3D?line=8'>9</a>\u001b[0m     points\u001b[39m.\u001b[39mappend((x,y))\n\u001b[1;32m---> <a href='vscode-notebook-cell:/b%3A/summer%20learning%202024/opencv/lesson.ipynb#X10sZmlsZQ%3D%3D?line=9'>10</a>\u001b[0m     image \u001b[39m=\u001b[39m cv2\u001b[39m.\u001b[39mrectangle(image,points[\u001b[39m0\u001b[39m],points[\u001b[39m1\u001b[39;49m],(\u001b[39m0\u001b[39m,\u001b[39m255\u001b[39m,\u001b[39m0\u001b[39m),\u001b[39m1\u001b[39m)\n\u001b[0;32m     <a href='vscode-notebook-cell:/b%3A/summer%20learning%202024/opencv/lesson.ipynb#X10sZmlsZQ%3D%3D?line=10'>11</a>\u001b[0m     points \u001b[39m=\u001b[39m []\n\u001b[0;32m     <a href='vscode-notebook-cell:/b%3A/summer%20learning%202024/opencv/lesson.ipynb#X10sZmlsZQ%3D%3D?line=11'>12</a>\u001b[0m cv2\u001b[39m.\u001b[39mimshow(\u001b[39m'\u001b[39m\u001b[39mimage\u001b[39m\u001b[39m'\u001b[39m, image)\n",
      "\u001b[1;31mIndexError\u001b[0m: list index out of range"
     ]
    }
   ],
   "source": [
    "points = []\n",
    "image = np.zeros((750,750,3) , dtype= np.int8)\n",
    "def rectangle(event, x,y,flags,param):\n",
    "    global image\n",
    "    global points\n",
    "    if event == cv2.EVENT_RBUTTONDOWN:\n",
    "        points.append((x,y))\n",
    "    if event == cv2.EVENT_LBUTTONUP:\n",
    "        points.append((x,y))\n",
    "        image = cv2.rectangle(image,points[0],points[1],(0,255,0),1)\n",
    "        points = []\n",
    "    cv2.imshow('image', image)\n",
    "cv2.imshow('image',image)\n",
    "cv2.setMouseCallback('image', rectangle)\n",
    "cv2.waitKey(0)\n",
    "cv2.destroyAllWindows()"
   ]
  }
 ],
 "metadata": {
  "kernelspec": {
   "display_name": "base",
   "language": "python",
   "name": "python3"
  },
  "language_info": {
   "codemirror_mode": {
    "name": "ipython",
    "version": 3
   },
   "file_extension": ".py",
   "mimetype": "text/x-python",
   "name": "python",
   "nbconvert_exporter": "python",
   "pygments_lexer": "ipython3",
   "version": "3.11.5"
  }
 },
 "nbformat": 4,
 "nbformat_minor": 2
}
